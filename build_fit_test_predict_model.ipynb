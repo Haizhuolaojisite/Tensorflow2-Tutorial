{
 "cells": [
  {
   "cell_type": "code",
   "execution_count": 17,
   "metadata": {},
   "outputs": [
    {
     "name": "stdout",
     "output_type": "stream",
     "text": [
      "2.0.0\n"
     ]
    }
   ],
   "source": [
    "import tensorflow as tf\n",
    "print(tf.__version__)"
   ]
  },
  {
   "cell_type": "markdown",
   "metadata": {},
   "source": [
    "# The Sequential model API"
   ]
  },
  {
   "cell_type": "markdown",
   "metadata": {},
   "source": [
    " ## Coding tutorials\n",
    " #### [1. Building a Sequential model](#coding_tutorial_1)\n",
    " #### [2. Convolutional and pooling layers](#coding_tutorial_2)\n",
    " #### [3. The compile method](#coding_tutorial_3)\n",
    " #### [4. The fit method](#coding_tutorial_4)\n",
    " #### [5. The evaluate and predict methods](#coding_tutorial_5)"
   ]
  },
  {
   "cell_type": "markdown",
   "metadata": {},
   "source": [
    "***\n",
    "<a id=\"coding_tutorial_1\"></a>\n",
    "## Building a Sequential model"
   ]
  },
  {
   "cell_type": "code",
   "execution_count": 18,
   "metadata": {},
   "outputs": [],
   "source": [
    "from tensorflow.keras.models import Sequential\n",
    "from tensorflow.keras.layers import Dense, Flatten, Softmax"
   ]
  },
  {
   "cell_type": "code",
   "execution_count": 19,
   "metadata": {},
   "outputs": [],
   "source": [
    "#feed forward network with a single hidden layer\n",
    "model = Sequential([\n",
    "    Dense(64,activation='relu',input_shape=(784,)), \n",
    "# 64 units in this hidden layer, if you don't pass any activation, the dense layer will have a linear activation or no activation by default\n",
    "#each input data example will be a 1D vector of size 784, in this case,the weights and biases will be created and initialized straight away   \n",
    "    Dense(10,activation='softmax')\n",
    "#output layer has 10 units, a model for classification task where there're 10 classes\n",
    "])\n",
    "\n",
    "#here is another way for building the exact same model\n",
    "model = Sequential()\n",
    "model.add(Dense(64,activation='relu',input_shape=(784,)))\n",
    "model.add(Dense(10,activation='softmax'))\n",
    "\n",
    "#model 2\n",
    "model = Sequential([\n",
    "#flattening each data input to unroll it into a long 1D vector of size 784 \n",
    "#before sending it through to the first dense layer    \n",
    "    Flatten(input_shape=(28,28)), #(784,)\n",
    "    Dense(64,activation='relu'),\n",
    "    Dense(10,activation='softmax')\n",
    "])"
   ]
  },
  {
   "cell_type": "markdown",
   "metadata": {},
   "source": [
    "#### Build a feedforward neural network model"
   ]
  },
  {
   "cell_type": "code",
   "execution_count": 20,
   "metadata": {},
   "outputs": [],
   "source": [
    "# Build the Sequential feedforward neural network model\n",
    "\n",
    "model = Sequential([\n",
    "    Flatten(input_shape=(28,28)),\n",
    "    Dense(16,activation='relu',name='layer_1'),\n",
    "    Dense(16,activation='relu'),\n",
    "    Dense(10,activation='softmax')\n",
    "])"
   ]
  },
  {
   "cell_type": "code",
   "execution_count": 21,
   "metadata": {},
   "outputs": [
    {
     "data": {
      "text/plain": [
       "[<tf.Variable 'layer_1/kernel:0' shape=(784, 16) dtype=float32, numpy=\n",
       " array([[ 0.03465124, -0.06629299, -0.04463692, ...,  0.04418276,\n",
       "         -0.01572247,  0.00884312],\n",
       "        [-0.06348889,  0.05725411,  0.03005173, ..., -0.03789765,\n",
       "          0.07384685,  0.04725166],\n",
       "        [-0.08354749,  0.07658681,  0.03870599, ..., -0.01531265,\n",
       "         -0.05990492,  0.03814995],\n",
       "        ...,\n",
       "        [ 0.06497176,  0.01672003,  0.05191079, ...,  0.03792373,\n",
       "          0.0849939 ,  0.07345021],\n",
       "        [ 0.04745512,  0.00892156, -0.03631592, ...,  0.00688674,\n",
       "          0.07175867, -0.00252128],\n",
       "        [ 0.00801199, -0.02447445, -0.06566113, ..., -0.00535578,\n",
       "         -0.01625472, -0.00265259]], dtype=float32)>,\n",
       " <tf.Variable 'layer_1/bias:0' shape=(16,) dtype=float32, numpy=\n",
       " array([0., 0., 0., 0., 0., 0., 0., 0., 0., 0., 0., 0., 0., 0., 0., 0.],\n",
       "       dtype=float32)>,\n",
       " <tf.Variable 'dense_9/kernel:0' shape=(16, 16) dtype=float32, numpy=\n",
       " array([[ 2.17817694e-01,  2.03228146e-01,  9.68135297e-02,\n",
       "         -2.26227567e-01, -2.09195912e-02, -1.43273234e-01,\n",
       "          2.51376003e-01, -1.17209703e-01,  4.08532947e-01,\n",
       "          2.71239251e-01, -2.49196544e-01,  9.91041958e-02,\n",
       "         -5.00675738e-02, -3.37966084e-02,  2.98070341e-01,\n",
       "         -4.18067813e-01],\n",
       "        [-5.85992932e-02,  3.36620182e-01, -3.62596154e-01,\n",
       "          2.50401050e-01,  5.15046716e-03,  8.51554573e-02,\n",
       "          4.31298405e-01, -3.40653360e-01, -1.98147178e-01,\n",
       "         -3.16433668e-01,  1.44037336e-01, -3.77540916e-01,\n",
       "         -3.46720517e-02,  1.90585464e-01, -3.35991740e-01,\n",
       "          2.52343565e-01],\n",
       "        [-8.68853331e-02, -1.04984939e-02, -4.07556295e-01,\n",
       "         -8.00029635e-02,  1.39254719e-01, -2.21002787e-01,\n",
       "         -1.81148052e-01, -5.23263216e-03,  1.47218317e-01,\n",
       "         -2.86969483e-01,  5.76243103e-02,  1.34517819e-01,\n",
       "         -3.31696212e-01,  4.77662683e-03,  3.55356246e-01,\n",
       "          3.41708362e-02],\n",
       "        [-2.87901998e-01, -9.71901715e-02,  1.80271655e-01,\n",
       "         -1.05663329e-01, -2.65608728e-01,  2.81376809e-01,\n",
       "         -4.31195080e-01,  3.98668051e-02,  5.72551191e-02,\n",
       "         -3.46289039e-01, -2.78305829e-01,  3.37167710e-01,\n",
       "          2.05187291e-01,  2.76791483e-01, -4.15918291e-01,\n",
       "          1.62718683e-01],\n",
       "        [-2.02882916e-01,  2.53716201e-01, -4.24255311e-01,\n",
       "          3.84472936e-01,  3.93802524e-02, -3.70505631e-01,\n",
       "         -6.69485629e-02,  2.70089000e-01,  3.74496728e-01,\n",
       "          1.79315597e-01, -3.98736656e-01, -2.78192550e-01,\n",
       "          3.23604494e-01,  2.44140416e-01,  7.03527629e-02,\n",
       "          2.90116280e-01],\n",
       "        [-3.86612564e-01,  2.00547904e-01, -1.06414497e-01,\n",
       "         -7.66628683e-02,  3.93246979e-01,  3.89547735e-01,\n",
       "          3.79770130e-01, -1.80686086e-01,  2.30448544e-02,\n",
       "          3.55652839e-01, -4.03006494e-01,  1.99479371e-01,\n",
       "         -2.30304137e-01,  1.05395526e-01,  2.56435305e-01,\n",
       "         -2.74313986e-01],\n",
       "        [-1.51008785e-01,  3.19729954e-01,  1.01111531e-02,\n",
       "         -3.49248976e-01, -1.31845713e-01, -3.27183038e-01,\n",
       "          3.09941441e-01, -4.14355487e-01, -2.57404804e-01,\n",
       "         -2.35927537e-01,  2.25046009e-01, -3.84397388e-01,\n",
       "          1.07389301e-01,  2.60362059e-01,  3.77922684e-01,\n",
       "         -3.42803091e-01],\n",
       "        [-2.78546035e-01, -2.35875189e-01,  1.98333651e-01,\n",
       "          3.93923193e-01, -3.77524495e-01,  2.23840207e-01,\n",
       "         -3.35648686e-01, -5.06165922e-02, -1.28506243e-01,\n",
       "         -2.29797855e-01, -2.87066817e-01, -3.75723720e-01,\n",
       "          2.66419679e-01,  4.02622730e-01,  5.25097847e-02,\n",
       "         -1.91592574e-02],\n",
       "        [ 7.33657777e-02, -2.54396260e-01,  3.88039082e-01,\n",
       "          2.62142807e-01,  7.37730563e-02, -2.55820453e-02,\n",
       "          1.22541457e-01,  2.46712297e-01,  3.28048378e-01,\n",
       "          3.56069714e-01, -3.78302902e-01,  9.53054428e-03,\n",
       "         -2.26130009e-01,  3.78787130e-01,  3.51111680e-01,\n",
       "         -7.54104853e-02],\n",
       "        [-1.99057847e-01, -4.31256413e-01, -9.86928046e-02,\n",
       "          9.94316638e-02, -3.02508891e-01,  3.22937280e-01,\n",
       "         -3.82930368e-01,  3.51564914e-01, -1.66635543e-01,\n",
       "          1.37949854e-01,  1.43454760e-01, -4.32395935e-01,\n",
       "          1.43337280e-01, -3.71790349e-01,  1.82761282e-01,\n",
       "         -7.45370984e-03],\n",
       "        [-3.71230274e-01, -2.01614127e-01, -3.14277440e-01,\n",
       "          2.95139402e-01, -5.89981973e-02,  3.44617635e-01,\n",
       "         -2.52752483e-01, -5.09253740e-02,  3.84692758e-01,\n",
       "         -2.16173410e-01, -2.39091516e-02,  3.59892040e-01,\n",
       "          2.96859354e-01, -4.08612639e-01,  4.80698049e-02,\n",
       "          3.40586334e-01],\n",
       "        [ 2.86191791e-01, -3.22570980e-01,  2.30617255e-01,\n",
       "          3.33482414e-01, -3.96286309e-01, -3.38652492e-01,\n",
       "          1.58175677e-01,  2.75307447e-01, -3.07248533e-02,\n",
       "         -6.24477863e-02, -3.47105861e-01,  2.22984940e-01,\n",
       "          1.21104568e-01, -3.44991118e-01,  6.93377852e-03,\n",
       "          3.67396325e-01],\n",
       "        [ 4.10771579e-01,  2.58349150e-01, -2.79945850e-01,\n",
       "         -2.46107444e-01,  4.70665395e-02, -6.24952912e-02,\n",
       "         -2.16436252e-01,  4.23195034e-01, -3.50814700e-01,\n",
       "          3.39752167e-01, -1.51852548e-01,  3.42991799e-01,\n",
       "          3.06458682e-01, -3.74782681e-02,  3.62009138e-01,\n",
       "         -2.97468185e-01],\n",
       "        [ 5.90593219e-02, -2.37986729e-01, -2.56156266e-01,\n",
       "          2.10475028e-02, -1.34853125e-01, -6.46937490e-02,\n",
       "         -1.34327441e-01, -7.88438022e-02, -1.11670554e-01,\n",
       "          3.18681866e-01,  2.33711213e-01, -2.45137215e-01,\n",
       "         -3.72537464e-01, -3.94125730e-01,  1.43055826e-01,\n",
       "         -1.68788910e-01],\n",
       "        [-3.80403101e-02, -4.18146491e-01,  6.13025725e-02,\n",
       "          4.91526723e-02,  1.41005605e-01,  2.30087966e-01,\n",
       "         -3.89164209e-01, -3.26226026e-01,  2.54423618e-02,\n",
       "          3.65692228e-01, -9.94246602e-02,  2.77952939e-01,\n",
       "         -1.79950297e-01, -3.31257582e-02,  2.00198859e-01,\n",
       "         -3.71034741e-01],\n",
       "        [ 2.13999420e-01,  2.28010207e-01, -6.63217008e-02,\n",
       "         -2.34786436e-01, -2.15481609e-01, -3.25017631e-01,\n",
       "         -4.20925021e-02, -3.86623144e-02, -8.06672871e-02,\n",
       "         -2.14010477e-04,  1.22827321e-01,  2.85735995e-01,\n",
       "         -1.86495498e-01,  1.54284924e-01, -8.21953118e-02,\n",
       "         -1.44505799e-02]], dtype=float32)>,\n",
       " <tf.Variable 'dense_9/bias:0' shape=(16,) dtype=float32, numpy=\n",
       " array([0., 0., 0., 0., 0., 0., 0., 0., 0., 0., 0., 0., 0., 0., 0., 0.],\n",
       "       dtype=float32)>,\n",
       " <tf.Variable 'dense_10/kernel:0' shape=(16, 10) dtype=float32, numpy=\n",
       " array([[-0.3730892 ,  0.45294648, -0.4584958 , -0.012014  ,  0.33451396,\n",
       "         -0.1475868 , -0.27163818,  0.23359561,  0.09478843, -0.04914328],\n",
       "        [-0.14205876, -0.19732612,  0.18222594, -0.1487486 ,  0.34306622,\n",
       "          0.10964787,  0.4109311 ,  0.30332142,  0.23547864,  0.29871953],\n",
       "        [ 0.22493547, -0.26691762,  0.3901283 ,  0.09089559, -0.33770525,\n",
       "         -0.02178994,  0.26467818,  0.09229726, -0.2587449 ,  0.2874391 ],\n",
       "        [ 0.3128842 , -0.20710331,  0.42719853,  0.14573723, -0.47976863,\n",
       "         -0.10158145,  0.23192322,  0.36295217,  0.1813618 ,  0.31434143],\n",
       "        [ 0.01557997, -0.15258911, -0.22422111, -0.30867094,  0.4527669 ,\n",
       "         -0.3976419 ,  0.43943584, -0.45638657, -0.23343538,  0.47745425],\n",
       "        [-0.39664546, -0.08444053, -0.25551546,  0.4665612 , -0.05792922,\n",
       "         -0.11280876,  0.30608708,  0.45342785,  0.1697309 ,  0.10670793],\n",
       "        [-0.04181653,  0.44920057,  0.0869984 ,  0.32360905, -0.06783238,\n",
       "          0.13978153,  0.09930831,  0.16840285,  0.06979489,  0.16362947],\n",
       "        [-0.3856627 ,  0.15064377,  0.39932507,  0.09354532,  0.01749244,\n",
       "         -0.2086313 , -0.43783402,  0.41868174,  0.42681515, -0.09243122],\n",
       "        [-0.01652762, -0.375998  ,  0.09203243,  0.20715678, -0.20474875,\n",
       "         -0.28776827,  0.03156596,  0.11920756, -0.20367903, -0.31051913],\n",
       "        [ 0.39171302,  0.34670603, -0.12263635,  0.01498258,  0.19552016,\n",
       "         -0.11099523, -0.02929688, -0.2866471 , -0.37809256,  0.21386462],\n",
       "        [ 0.4330598 ,  0.3542937 ,  0.47264504, -0.19107172, -0.4038208 ,\n",
       "          0.11211675,  0.07478589, -0.15725622, -0.12047362,  0.28161454],\n",
       "        [-0.12241781, -0.383344  ,  0.03614557,  0.09009969,  0.11323529,\n",
       "         -0.08832353, -0.18862405,  0.04421562,  0.24075347, -0.4180263 ],\n",
       "        [-0.06224251, -0.3424781 , -0.3708195 ,  0.26868254,  0.4489531 ,\n",
       "          0.03161079, -0.2811194 ,  0.09734756,  0.34400803, -0.2735721 ],\n",
       "        [ 0.08671641, -0.3589363 , -0.28654987, -0.31793237,  0.41119385,\n",
       "         -0.06962606, -0.23905848, -0.16404685, -0.47237566,  0.21983612],\n",
       "        [ 0.16941613, -0.21869722, -0.25397497, -0.32815772, -0.20079944,\n",
       "         -0.19727251, -0.1744526 ,  0.2768526 , -0.13075969,  0.3880217 ],\n",
       "        [-0.3869094 ,  0.03430706, -0.04467285,  0.1431402 , -0.00383478,\n",
       "          0.27890128, -0.22582561,  0.3703547 , -0.45306295, -0.31073755]],\n",
       "       dtype=float32)>,\n",
       " <tf.Variable 'dense_10/bias:0' shape=(10,) dtype=float32, numpy=array([0., 0., 0., 0., 0., 0., 0., 0., 0., 0.], dtype=float32)>]"
      ]
     },
     "execution_count": 21,
     "metadata": {},
     "output_type": "execute_result"
    }
   ],
   "source": [
    "# Print the model summary\n",
    "\n",
    "model.weights"
   ]
  },
  {
   "cell_type": "code",
   "execution_count": 22,
   "metadata": {},
   "outputs": [
    {
     "name": "stdout",
     "output_type": "stream",
     "text": [
      "Model: \"sequential_5\"\n",
      "_________________________________________________________________\n",
      "Layer (type)                 Output Shape              Param #   \n",
      "=================================================================\n",
      "flatten_2 (Flatten)          (None, 784)               0         \n",
      "_________________________________________________________________\n",
      "layer_1 (Dense)              (None, 16)                12560     \n",
      "_________________________________________________________________\n",
      "dense_9 (Dense)              (None, 16)                272       \n",
      "_________________________________________________________________\n",
      "dense_10 (Dense)             (None, 10)                170       \n",
      "=================================================================\n",
      "Total params: 13,002\n",
      "Trainable params: 13,002\n",
      "Non-trainable params: 0\n",
      "_________________________________________________________________\n"
     ]
    }
   ],
   "source": [
    "model.summary()"
   ]
  },
  {
   "cell_type": "markdown",
   "metadata": {},
   "source": [
    "***\n",
    "<a id=\"coding_tutorial_2\"></a>\n",
    "## Convolutional and pooling layers"
   ]
  },
  {
   "cell_type": "code",
   "execution_count": 23,
   "metadata": {},
   "outputs": [],
   "source": [
    "from tensorflow.keras.models import Sequential\n",
    "from tensorflow.keras.layers import Dense, Flatten, Conv2D, MaxPooling2D"
   ]
  },
  {
   "cell_type": "markdown",
   "metadata": {},
   "source": [
    "#### Build a convolutional neural network model"
   ]
  },
  {
   "cell_type": "code",
   "execution_count": 24,
   "metadata": {},
   "outputs": [],
   "source": [
    "model = Sequential([\n",
    "#16 filters, 3 is the shape of convlutional kernel    \n",
    "    Conv2D(16,3,activation='relu',input_shape=(32,32,3)), #(None,30,30,16),None is bec 1st dimension is always batch size\n",
    "    MaxPooling2D((3,3)), #(None,10,10,16)\n",
    "    Flatten(), #（None,1600)\n",
    "    Dense(64,activation='relu'), #(None,64)\n",
    "    Dense(10,activation='softmax') #(None,10)\n",
    "])"
   ]
  },
  {
   "cell_type": "code",
   "execution_count": 25,
   "metadata": {},
   "outputs": [],
   "source": [
    "model = Sequential([ \n",
    "    Conv2D(16,kernel_size=3,padding='SAME',\n",
    "           activation='relu',input_shape=(32,32,3)), #(None,32,32,16),None is bec 1st dimension is always batch size\n",
    "    MaxPooling2D(pool_size=3), #(None,10,10,16)\n",
    "    Flatten(), #（None,1600)\n",
    "    Dense(64,activation='relu'), #(None,64)\n",
    "    Dense(10,activation='softmax') #(None,10)\n",
    "])"
   ]
  },
  {
   "cell_type": "code",
   "execution_count": 26,
   "metadata": {},
   "outputs": [],
   "source": [
    "# Build the Sequential convolutional neural network model\n",
    "\n",
    "model = Sequential([\n",
    "    Conv2D(16,(3,3),padding='SAME', strides=2,activation='relu',input_shape=(1,28,28),data_format='channels_first'),\n",
    "    MaxPooling2D((3,3)),\n",
    "    Flatten(),\n",
    "    Dense(10,activation=\"softmax\")\n",
    "])"
   ]
  },
  {
   "cell_type": "code",
   "execution_count": 73,
   "metadata": {},
   "outputs": [],
   "source": [
    "\n",
    "model = Sequential([\n",
    "    Conv2D(16,(3,3),padding='SAME', strides=2,activation='relu',input_shape=(28,28,1)),\n",
    "    MaxPooling2D((3,3)),\n",
    "    Flatten(),\n",
    "    Dense(10,activation=\"softmax\")\n",
    "])"
   ]
  },
  {
   "cell_type": "code",
   "execution_count": 74,
   "metadata": {},
   "outputs": [
    {
     "name": "stdout",
     "output_type": "stream",
     "text": [
      "Model: \"sequential_15\"\n",
      "_________________________________________________________________\n",
      "Layer (type)                 Output Shape              Param #   \n",
      "=================================================================\n",
      "conv2d_6 (Conv2D)            (None, 14, 14, 16)        160       \n",
      "_________________________________________________________________\n",
      "max_pooling2d_6 (MaxPooling2 (None, 4, 4, 16)          0         \n",
      "_________________________________________________________________\n",
      "flatten_8 (Flatten)          (None, 256)               0         \n",
      "_________________________________________________________________\n",
      "dense_25 (Dense)             (None, 10)                2570      \n",
      "=================================================================\n",
      "Total params: 2,730\n",
      "Trainable params: 2,730\n",
      "Non-trainable params: 0\n",
      "_________________________________________________________________\n"
     ]
    }
   ],
   "source": [
    "# Print the model summary\n",
    "model.summary()\n"
   ]
  },
  {
   "cell_type": "markdown",
   "metadata": {},
   "source": [
    "***\n",
    "<a id=\"coding_tutorial_3\"></a>\n",
    "## The compile method"
   ]
  },
  {
   "cell_type": "markdown",
   "metadata": {},
   "source": [
    "#### Compile the model"
   ]
  },
  {
   "cell_type": "code",
   "execution_count": 29,
   "metadata": {},
   "outputs": [],
   "source": [
    "#binary classification network\n",
    "model = Sequential([\n",
    "#fully connected layer with 64units, exponential linear unit activation function    \n",
    "    Dense(64,activation='elu',input_shape=(32,)),\n",
    "#a final dense layer with one neuron    \n",
    "    Dense(1,activation='linear')\n",
    "])\n",
    "\n",
    "model.compile(\n",
    "    optimizer='sgd', #'adam','rmsprop','adadelta'\n",
    "    loss='binary_crossentropy', #'mean_squared_error','categorical_crossentropy (more appropriate for a regression task)'\n",
    "#these metrics will be calculated for each epoch of training along with the evaluation of the loss function on the training data \n",
    "    metrics=['accuracy','mae'] #mean absolute error\n",
    ")\n",
    "\n",
    "model.compile(\n",
    "    optimizer=tf.keras.optimizers.SGD(learning_rate=0.001,momentum=0.9,nesterov=True),\n",
    "    loss=tf.keras.losses.BinaryCrossentropy(from_logits=True),\n",
    "    metrics=[tf.keras.metrics.BinaryAccuracy(threshold=0.7),tf.keras.metrics.MeanAbsoluteError()]\n",
    ")\n"
   ]
  },
  {
   "cell_type": "code",
   "execution_count": 30,
   "metadata": {},
   "outputs": [],
   "source": [
    "# Define the model optimizer, loss function and metrics\n",
    "model.compile(optimizer='adam',\n",
    "             loss='sparse_categorical_crossentropy',\n",
    "             metrics=['accuracy'])\n",
    "#data labels are integers: sparse categorical crossentropy\n",
    "#data labels are one-hot vectors: categorical crossentropy"
   ]
  },
  {
   "cell_type": "code",
   "execution_count": 31,
   "metadata": {},
   "outputs": [
    {
     "name": "stdout",
     "output_type": "stream",
     "text": [
      "sparse_categorical_crossentropy\n",
      "<tensorflow.python.keras.optimizer_v2.adam.Adam object at 0x7f8d084a0080>\n",
      "[<tensorflow.python.keras.metrics.MeanMetricWrapper object at 0x7f8d084a0fd0>]\n"
     ]
    }
   ],
   "source": [
    "# Print the resulting model attributes\n",
    "print(model.loss)\n",
    "print(model.optimizer)\n",
    "print(model.metrics)\n"
   ]
  },
  {
   "cell_type": "code",
   "execution_count": 32,
   "metadata": {},
   "outputs": [
    {
     "name": "stdout",
     "output_type": "stream",
     "text": [
      "<tf.Variable 'learning_rate:0' shape=() dtype=float32, numpy=0.005>\n"
     ]
    }
   ],
   "source": [
    "opt = tf.keras.optimizers.Adam(learning_rate=0.005)\n",
    "model.compile(optimizer=opt,\n",
    "             loss='sparse_categorical_crossentropy',\n",
    "             metrics=['accuracy'])\n",
    "print(model.optimizer.lr)"
   ]
  },
  {
   "cell_type": "code",
   "execution_count": 75,
   "metadata": {},
   "outputs": [],
   "source": [
    "opt = tf.keras.optimizers.Adam(learning_rate=0.005)\n",
    "acc = tf.keras.metrics.SparseCategoricalAccuracy()\n",
    "mae = tf.keras.metrics.MeanAbsoluteError()\n",
    "model.compile(optimizer=opt,\n",
    "             loss='sparse_categorical_crossentropy',\n",
    "             metrics=[acc,mae])"
   ]
  },
  {
   "cell_type": "markdown",
   "metadata": {},
   "source": [
    "***\n",
    "<a id=\"coding_tutorial_4\"></a>\n",
    "## The fit method"
   ]
  },
  {
   "cell_type": "code",
   "execution_count": 76,
   "metadata": {},
   "outputs": [],
   "source": [
    "from tensorflow.keras.preprocessing import image\n",
    "import matplotlib.pyplot as plt\n",
    "import numpy as np\n",
    "import pandas as pd"
   ]
  },
  {
   "cell_type": "code",
   "execution_count": null,
   "metadata": {},
   "outputs": [],
   "source": [
    "model = Sequential([\n",
    "    Dense(64,activation='relu',input_shape=(32,)),\n",
    "    Dense(100,activation='softmax')\n",
    "])\n",
    "\n",
    "model.compile(\n",
    "    optimizer='rmsprop',\n",
    "    loss='categorical_crossentropy',\n",
    "    metrics=['accuracy']\n",
    ")\n",
    "\n",
    "model.fit(X_train,y_train)\n",
    "#X_train:(num_samples,num_features)\n",
    "#y_train:(num_samples,num_classes) one-hot vectors"
   ]
  },
  {
   "cell_type": "code",
   "execution_count": null,
   "metadata": {},
   "outputs": [],
   "source": [
    "model = Sequential([\n",
    "    Dense(64,activation='relu',input_shape=(32,)),\n",
    "    Dense(100,activation='softmax')\n",
    "])\n",
    "\n",
    "model.compile(\n",
    "    optimizer='rmsprop',\n",
    "    loss='sparse_categorical_crossentropy',\n",
    "    metrics=['accuracy']\n",
    ")\n",
    "\n",
    "model.fit(X_train,y_train)\n",
    "#X_train:(num_samples,num_features)\n",
    "#y_train:(num_samples,) 1D array with single interger for each label\n",
    "\n",
    "history = model.fit(X_train,y_train,epochs=10,batch_size=16) #10 complete passes through the dataset\n",
    "# train on minibatches of size 16"
   ]
  },
  {
   "cell_type": "markdown",
   "metadata": {},
   "source": [
    "#### Load the data"
   ]
  },
  {
   "cell_type": "code",
   "execution_count": 77,
   "metadata": {},
   "outputs": [],
   "source": [
    "# Load the Fashion-MNIST dataset\n",
    "\n",
    "fashion_mnist_data = tf.keras.datasets.fashion_mnist\n",
    "(train_images, train_labels), (test_images, test_labels) = fashion_mnist_data.load_data()"
   ]
  },
  {
   "cell_type": "code",
   "execution_count": 78,
   "metadata": {},
   "outputs": [
    {
     "data": {
      "text/plain": [
       "(60000, 28, 28)"
      ]
     },
     "execution_count": 78,
     "metadata": {},
     "output_type": "execute_result"
    }
   ],
   "source": [
    "# Print the shape of the training data\n",
    "\n",
    "train_images.shape"
   ]
  },
  {
   "cell_type": "code",
   "execution_count": 79,
   "metadata": {},
   "outputs": [
    {
     "name": "stdout",
     "output_type": "stream",
     "text": [
      "9\n"
     ]
    }
   ],
   "source": [
    "# Define the labels\n",
    "\n",
    "labels = [\n",
    "    'T-shirt/top',\n",
    "    'Trouser',\n",
    "    'Pullover',\n",
    "    'Dress',\n",
    "    'Coat',\n",
    "    'Sandal',\n",
    "    'Shirt',\n",
    "    'Sneaker',\n",
    "    'Bag',\n",
    "    'Ankle boot'\n",
    "]\n",
    "\n",
    "print(train_labels[0])"
   ]
  },
  {
   "cell_type": "code",
   "execution_count": null,
   "metadata": {},
   "outputs": [],
   "source": [
    "# Rescale the image values so that they lie in between 0 and 1.\n",
    "\n",
    "train_images = train_images/255.\n",
    "test_images = test_images/255."
   ]
  },
  {
   "cell_type": "code",
   "execution_count": null,
   "metadata": {},
   "outputs": [],
   "source": [
    "# Display one of the images\n",
    "\n",
    "i = 0\n",
    "img = train_images[i,:,:]\n",
    "plt.imshow(img)\n",
    "plt.show()\n",
    "print(f\"label:{labels[train_labels[i]]}\")"
   ]
  },
  {
   "cell_type": "markdown",
   "metadata": {},
   "source": [
    "#### Fit the model"
   ]
  },
  {
   "cell_type": "code",
   "execution_count": null,
   "metadata": {},
   "outputs": [],
   "source": [
    "# Fit the model\n",
    "#add a dummy channel dimension to the training images\n",
    "#verbose=2:print one line per epoch; verbose=0:silent print out\n",
    "#verbose=1 will show you an animated progress bar like this:\n",
    "#progres_bar[======]\n",
    "history = model.fit(train_images[...,np.newaxis],train_labels,epochs=8,batch_size=256,verbose=1)\n"
   ]
  },
  {
   "cell_type": "markdown",
   "metadata": {},
   "source": [
    "#### Plot training history"
   ]
  },
  {
   "cell_type": "code",
   "execution_count": null,
   "metadata": {},
   "outputs": [],
   "source": [
    "# Load the history into a pandas Dataframe\n",
    "df = pd.DataFrame(history.history)\n",
    "df.head()"
   ]
  },
  {
   "cell_type": "code",
   "execution_count": 54,
   "metadata": {},
   "outputs": [
    {
     "data": {
      "text/plain": [
       "[Text(0, 0.5, 'Loss'), Text(0.5, 0, 'Epochs')]"
      ]
     },
     "execution_count": 54,
     "metadata": {},
     "output_type": "execute_result"
    },
    {
     "data": {
      "image/png": "[encoded data removed]",
      "text/plain": [
       "<Figure size 432x288 with 1 Axes>"
      ]
     },
     "metadata": {
      "needs_background": "light"
     },
     "output_type": "display_data"
    }
   ],
   "source": [
    "# Make a plot for the loss\n",
    "loss_plot = df.plot(y=\"loss\",title=\"Loss vs. Epochs\",legend=False)\n",
    "loss_plot.set(xlabel=\"Epochs\",ylabel=\"Loss\")"
   ]
  },
  {
   "cell_type": "code",
   "execution_count": 55,
   "metadata": {},
   "outputs": [
    {
     "data": {
      "text/plain": [
       "[Text(0, 0.5, 'Accuracy'), Text(0.5, 0, 'Epochs')]"
      ]
     },
     "execution_count": 55,
     "metadata": {},
     "output_type": "execute_result"
    },
    {
     "data": {
      "image/png": "[encoded data removed]",
      "text/plain": [
       "<Figure size 432x288 with 1 Axes>"
      ]
     },
     "metadata": {
      "needs_background": "light"
     },
     "output_type": "display_data"
    }
   ],
   "source": [
    "# Make a plot for the accuracy\n",
    "accuracy_plot = df.plot(y=\"sparse_categorical_accuracy\",title=\"Accuracy vs. Epochs\",legend=False)\n",
    "accuracy_plot.set(xlabel=\"Epochs\",ylabel=\"Accuracy\")\n"
   ]
  },
  {
   "cell_type": "code",
   "execution_count": 56,
   "metadata": {},
   "outputs": [
    {
     "data": {
      "text/plain": [
       "[Text(0, 0.5, 'Accuracy'), Text(0.5, 0, 'Epochs')]"
      ]
     },
     "execution_count": 56,
     "metadata": {},
     "output_type": "execute_result"
    },
    {
     "data": {
      "image/png": "[encoded data removed]",
      "text/plain": [
       "<Figure size 432x288 with 1 Axes>"
      ]
     },
     "metadata": {
      "needs_background": "light"
     },
     "output_type": "display_data"
    }
   ],
   "source": [
    "# Make a plot for the additional metric\n",
    "metric_plot = df.plot(y='mean_absolute_error',title='MAE vs. Epochs')\n",
    "metric_plot.set(xlabel='Epochs',ylabel='Accuracy')\n"
   ]
  },
  {
   "cell_type": "markdown",
   "metadata": {},
   "source": [
    "***\n",
    "<a id=\"coding_tutorial_5\"></a>\n",
    "## The evaluate and predict methods"
   ]
  },
  {
   "cell_type": "code",
   "execution_count": 60,
   "metadata": {},
   "outputs": [],
   "source": [
    "import matplotlib.pyplot as plt\n",
    "import numpy as np"
   ]
  },
  {
   "cell_type": "markdown",
   "metadata": {},
   "source": [
    "#### Evaluate the model on the test set"
   ]
  },
  {
   "cell_type": "code",
   "execution_count": null,
   "metadata": {},
   "outputs": [],
   "source": [
    "model= Sequential([Dense(1,activation='sigmoid',input_shape=(12,))])\n",
    "model.compile(optimizer='sgd',loss='binary_crossentropy',metrics=['accuracy','mae'])\n",
    "model.fit(X_train,y_train)\n",
    "\n",
    "loss,accuracy,mae = model.evaluate(X_test,y_test)\n",
    "\n",
    "#X_sample:(num_samples,12),don't have corresponding labels\n",
    "pred = model.predict(X_sample)\n",
    "#if we're getting predictions in only 1 example, we have to have a dummy first dimension that will be equal to one\n",
    "#our network is a binary classifier where the final layer has just 1 neuron passed through a sigmoid activation\n",
    "#Then model.predict will return just 1 number that we interpreted as a probability that the input we passed in belongs to the positive class\n",
    "#e.g.[[0.0077]]here prob is very low, so the model prediction would be that this input belongs to the negtive class"
   ]
  },
  {
   "cell_type": "code",
   "execution_count": null,
   "metadata": {},
   "outputs": [],
   "source": [
    "# Evaluate the model\n",
    "test_loss,test_accuracy,test_mae=model.evaluate(test_image[...,np.newaxis],test_labels,verbose=2)\n"
   ]
  },
  {
   "cell_type": "markdown",
   "metadata": {},
   "source": [
    "#### Make predictions from the model"
   ]
  },
  {
   "cell_type": "code",
   "execution_count": 68,
   "metadata": {},
   "outputs": [
    {
     "data": {
      "image/png": "[encoded data removed]",
      "text/plain": [
       "<Figure size 432x288 with 1 Axes>"
      ]
     },
     "metadata": {
      "needs_background": "light"
     },
     "output_type": "display_data"
    },
    {
     "name": "stdout",
     "output_type": "stream",
     "text": [
      "Label: Pullover\n"
     ]
    }
   ],
   "source": [
    "# Choose a random test image\n",
    "\n",
    "random_inx = np.random.choice(test_images.shape[0])\n",
    "\n",
    "test_image = test_images[random_inx]\n",
    "plt.imshow(test_image)\n",
    "plt.show()\n",
    "print(f\"Label: {labels[test_labels[random_inx]]}\")"
   ]
  },
  {
   "cell_type": "code",
   "execution_count": null,
   "metadata": {},
   "outputs": [],
   "source": [
    "# Get the model predictions\n",
    "\n",
    "predictions=model.predict(test_image[np.newaxis,...,np.newaxis])\n"
   ]
  },
  {
   "cell_type": "code",
   "execution_count": null,
   "metadata": {},
   "outputs": [],
   "source": [
    "print(f\"Model prediction:{labels[np.argmax(predictions)]}\")"
   ]
  }
 ],
 "metadata": {
  "kernelspec": {
   "display_name": "Python 3",
   "language": "python",
   "name": "python3"
  },
  "language_info": {
   "codemirror_mode": {
    "name": "ipython",
    "version": 3
   },
   "file_extension": ".py",
   "mimetype": "text/x-python",
   "name": "python",
   "nbconvert_exporter": "python",
   "pygments_lexer": "ipython3",
   "version": "3.7.1"
  }
 },
 "nbformat": 4,
 "nbformat_minor": 2
}
